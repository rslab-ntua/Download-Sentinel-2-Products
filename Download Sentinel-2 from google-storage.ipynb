{
 "cells": [
  {
   "cell_type": "code",
   "execution_count": 1,
   "metadata": {},
   "outputs": [],
   "source": [
    "import os\n",
    "import requests\n",
    "from google.cloud import bigquery\n",
    "from google.oauth2 import service_account\n",
    "import pandas as pd\n",
    "from datetime import datetime"
   ]
  },
  {
   "cell_type": "code",
   "execution_count": 2,
   "metadata": {},
   "outputs": [],
   "source": [
    "BASE_URL = 'http://storage.googleapis.com/'"
   ]
  },
  {
   "cell_type": "code",
   "execution_count": null,
   "metadata": {},
   "outputs": [],
   "source": [
    "# Key_json is a .json file follow instructions here: \n",
    "# https://www.stitchdata.com/docs/destinations/google-bigquery/v2/connecting-google-bigquery-to-stitch\n",
    "# Pay attention only for STEP-1. You dont need to execute STEP-2\n",
    "# create new project at google cloud platform"
   ]
  },
  {
   "cell_type": "code",
   "execution_count": 3,
   "metadata": {},
   "outputs": [],
   "source": [
    "def query_sentinel(key_json, project_id, start, end, tile, cloud=100.):\n",
    "    credentials = service_account.Credentials.from_service_account_file(key_json)\n",
    "    client = bigquery.Client(credentials=credentials, project=project_id)\n",
    "    query = client.query(\"\"\"\n",
    "                SELECT * FROM `bigquery-public-data.cloud_storage_geo_index.sentinel_2_index` \n",
    "                    WHERE mgrs_tile IN (\"{t}\") \n",
    "                    AND DATE(sensing_time) BETWEEN DATE(\"{s}\") AND DATE(\"{e}\")\n",
    "                \"\"\".format(t=tile, s=start, e=end))\n",
    "    results = query.result()\n",
    "    df = results.to_dataframe()\n",
    "    good_scenes = []\n",
    "    for i, row in df.iterrows():\n",
    "        print (row['product_id'], '; cloud cover:', row['cloud_cover'])\n",
    "        if float(row['cloud_cover']) <= cloud:\n",
    "            good_scenes.append(row['base_url'].replace('gs://', BASE_URL))\n",
    "    return good_scenes"
   ]
  },
  {
   "cell_type": "code",
   "execution_count": 4,
   "metadata": {},
   "outputs": [],
   "source": [
    "def download_file(url, dst_name):\n",
    "    try:\n",
    "        data = requests.get(url, stream=True)\n",
    "        with open(dst_name, 'wb') as out_file:\n",
    "            for chunk in data.iter_content(chunk_size=100 * 100):\n",
    "                out_file.write(chunk)\n",
    "    except:\n",
    "        print ('\\t ... {f} FAILED!'.format(f=url.split('/')[-1]))\n",
    "    return"
   ]
  },
  {
   "cell_type": "code",
   "execution_count": 5,
   "metadata": {},
   "outputs": [],
   "source": [
    "def make_safe_dirs(scene, outpath):\n",
    "    scene_name = os.path.basename(scene)\n",
    "    scene_path = os.path.join(outpath, scene_name)\n",
    "    manifest = os.path.join(scene_path, 'manifest.safe')\n",
    "    manifest_url = scene + '/manifest.safe'\n",
    "    if os.path.exists(manifest):\n",
    "        os.remove(manifest)\n",
    "    download_file(manifest_url, manifest)\n",
    "    with open(manifest, 'r') as f:\n",
    "        manifest_lines = f.read().split()\n",
    "    download_links = []\n",
    "    load_this = False\n",
    "    for line in manifest_lines:\n",
    "        if 'href' in line:\n",
    "            online_path = line[7:line.find('><') - 2]\n",
    "            tile = scene_name.split('_')[-2]\n",
    "            if online_path.startswith('/GRANULE/'):\n",
    "                if '_' + tile + '_' in online_path:\n",
    "                    load_this = True\n",
    "            else:\n",
    "                load_this = True\n",
    "            if load_this:\n",
    "                local_path = os.path.join(scene_path, *online_path.split('/')[1:])\n",
    "                online_path = scene + online_path\n",
    "                download_links.append((online_path, local_path))\n",
    "        load_this = False\n",
    "    for extra_dir in ('AUX_DATA', 'HTML'):\n",
    "        if not os.path.exists(os.path.join(scene_path, extra_dir)):\n",
    "            os.makedirs(os.path.join(scene_path, extra_dir))\n",
    "    return download_links"
   ]
  },
  {
   "cell_type": "code",
   "execution_count": 6,
   "metadata": {},
   "outputs": [],
   "source": [
    "def download_sentinel(scene, dst):\n",
    "    scene_name = scene.split('/')[-1]\n",
    "    scene_path = os.path.join(dst, scene_name)\n",
    "    if not os.path.exists(scene_path):\n",
    "        os.mkdir(scene_path)\n",
    "    print ('Downloading scene {s} ...'.format(s=scene_name))\n",
    "    download_links = sorted(make_safe_dirs(scene, dst))\n",
    "    for l in download_links:\n",
    "        if not os.path.exists(os.path.dirname(l[1])):\n",
    "            os.makedirs(os.path.dirname(l[1]))\n",
    "        if os.path.exists(l[1]):\n",
    "            os.remove(l[1])\n",
    "        if l[1].endswith('.jp2'):\n",
    "            print ('\\t ... *{b}'.format(b=l[1].split('_')[-1]))\n",
    "        if download_file(l[0], l[1]) is False:\n",
    "            print ('\\t ... {f} failed to download! Download for this scene is cancelled here!'.format(f=l[0]))\n",
    "            return"
   ]
  },
  {
   "cell_type": "code",
   "execution_count": null,
   "metadata": {},
   "outputs": [],
   "source": [
    "# Read excel with tile and ground truth information\n",
    "# The ground truth data have 13 columns namely: Area, Location, Quantity, Sentinel_pixels, Lat, Lon, tile, EventDate,\n",
    "# Product_title, Image_date, CloudCover, id and DaysDiff\n",
    "# In this script the 'Image_date' and 'tile' columns will be used.\n",
    "# Set path of ground truth .csv\n",
    "csv_path = r\"/home/antonis/sentinel-2/sentinel2_products.csv\"\n",
    "df = pd.read_csv(csv_path, index_col=0, header=0,low_memory=False)"
   ]
  },
  {
   "cell_type": "code",
   "execution_count": 9,
   "metadata": {},
   "outputs": [],
   "source": [
    "df = df.sort_values(by=['Lat'])\n",
    "df.index = range(df.shape[0])\n",
    "df = df.iloc[34:,:]\n",
    "df = df[df.Product_title!='0']\n",
    "df.index = range(df.shape[0])"
   ]
  },
  {
   "cell_type": "code",
   "execution_count": null,
   "metadata": {},
   "outputs": [
    {
     "name": "stdout",
     "output_type": "stream",
     "text": [
      "S2B_MSIL1C_20190418T071619_N0207_R006_T39RTM_20190418T095438 ; cloud cover: 4.5135\n",
      "Downloading scene S2B_MSIL1C_20190418T071619_N0207_R006_T39RTM_20190418T095438.SAFE ...\n",
      "\t ... *B01.jp2\n",
      "\t ... *B02.jp2\n",
      "\t ... *B03.jp2\n",
      "\t ... *B04.jp2\n",
      "\t ... *B05.jp2\n",
      "\t ... *B06.jp2\n",
      "\t ... *B07.jp2\n",
      "\t ... *B08.jp2\n",
      "\t ... *B09.jp2\n",
      "\t ... *B10.jp2\n",
      "\t ... *B11.jp2\n",
      "\t ... *B12.jp2\n",
      "\t ... *B8A.jp2\n",
      "\t ... *TCI.jp2\n",
      "\t ... *PVI.jp2\n",
      "S2B_MSIL1C_20190418T071619_N0207_R006_T39RTM_20190418T095438 ; cloud cover: 4.5135\n",
      "Downloading scene S2B_MSIL1C_20190418T071619_N0207_R006_T39RTM_20190418T095438.SAFE ...\n",
      "\t ... *B01.jp2\n",
      "\t ... *B02.jp2\n",
      "\t ... *B03.jp2\n",
      "\t ... *B04.jp2\n",
      "\t ... *B05.jp2\n",
      "\t ... *B06.jp2\n",
      "\t ... *B07.jp2\n",
      "\t ... *B08.jp2\n",
      "\t ... T39RTM_20190418T071619_B08.jp2 FAILED!\n",
      "\t ... *B09.jp2\n"
     ]
    }
   ],
   "source": [
    "# Download multiple products\n",
    "# In case you want to download multiple products given tile and image_date a for loop can be used.\n",
    "# Start date must be in this format: YYYY/MM/DD\n",
    "for k in range(df.shape[0]):\n",
    "    key_json = r'/home/antonis/sentinel-2/elegant-tide-219210-8cae76926534.json' # Path to .json key file\n",
    "    project_id = 'elegant-tide-219210' # Created project id from google platform\n",
    "    outdir = r'/mnt/data4/antonis/no_coordinates'\n",
    "    tile = df.tile.iloc[k]\n",
    "    cloud = 20\n",
    "    strip = df.Image_date.iloc[k].split(\"/\",2)\n",
    "    #start = '2016/07/09' , datetime.strptime('2018/01/18',\"%Y/%m/%d\")\n",
    "    start = datetime.strptime(strip[2]+str('/')+strip[0]+str('/')+strip[1],\"%Y/%m/%d\")\n",
    "    #end = '2016/07/11'\n",
    "    end = datetime.strptime(strip[2]+str('/')+strip[0]+str('/')+strip[1],\"%Y/%m/%d\")\n",
    "\n",
    "    scene_list = query_sentinel(key_json, project_id, start, end, tile, cloud)\n",
    "    for s in scene_list:\n",
    "        download_sentinel(s, outdir)"
   ]
  },
  {
   "cell_type": "code",
   "execution_count": 100,
   "metadata": {},
   "outputs": [],
   "source": [
    "# Download one product\n",
    "# Or download one product by user-defined parameters like tile and start date\n",
    "key_json = r'/home/antonis/sentinel-2/elegant-tide-219210-8cae76926534.json'\n",
    "project_id = 'elegant-tide-219210'\n",
    "outdir = r'/home/antonis/sentinel-2/coordinates'\n",
    "tile = '37QDD'\n",
    "cloud = 20\n",
    "#strip = df.Image_date.iloc[k].split(\"/\",2)\n",
    "start = datetime.strptime('2019/10/12',\"%Y/%m/%d\")\n",
    "#start = datetime.strptime(strip[2]+str('/')+strip[0]+str('/')+strip[1],\"%Y/%m/%d\")\n",
    "#end = '2016/07/11'\n",
    "end = start\n",
    "\n",
    "scene_list = query_sentinel(key_json, project_id, start, end, tile, cloud)\n",
    "for s in scene_list:\n",
    "    download_sentinel(s, outdir)"
   ]
  }
 ],
 "metadata": {
  "kernelspec": {
   "display_name": "Python 3",
   "language": "python",
   "name": "python3"
  },
  "language_info": {
   "codemirror_mode": {
    "name": "ipython",
    "version": 3
   },
   "file_extension": ".py",
   "mimetype": "text/x-python",
   "name": "python",
   "nbconvert_exporter": "python",
   "pygments_lexer": "ipython3",
   "version": "3.8.3"
  }
 },
 "nbformat": 4,
 "nbformat_minor": 4
}
